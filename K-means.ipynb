{
 "cells": [
  {
   "cell_type": "code",
   "execution_count": 1,
   "metadata": {},
   "outputs": [],
   "source": [
    "import numpy as np\n",
    "import pandas as pd\n",
    "from matplotlib import pyplot as plt\n",
    "from sklearn import neighbors, datasets"
   ]
  },
  {
   "cell_type": "code",
   "execution_count": 2,
   "metadata": {},
   "outputs": [],
   "source": [
    "dataset = np.array([[-25, -46], #são\n",
    "[-22, -43], #rio de janeiro\n",
    "[-25, -49], #curitiba\n",
    "[-30, -51], #porto alegre\n",
    "[-19, -43], #belo horizonte\n",
    "[-15, -47], #brasilia\n",
    "[-12, -38], #salvador\n",
    "[-8, -34], #recife\n",
    "[-16, -49], #goiania\n",
    "[-3, -60], #manaus\n",
    "[-22, -47], #campinas\n",
    "[-3, -38], #fortaleza\n",
    "[-21, -47], #ribeirão preto\n",
    "[-23, -51], #maringa\n",
    "[-27, -48], #florianópolis\n",
    "[-21, -43], #juiz de fora\n",
    "[-1, -48], #belém\n",
    "[-10, -67], #rio branco\n",
    "[-8, -63]]) #porto velho\n",
    "\n",
    "#matriz com as coordenadas geográficas de cada loja"
   ]
  },
  {
   "cell_type": "code",
   "execution_count": 3,
   "metadata": {
    "scrolled": true
   },
   "outputs": [
    {
     "data": {
      "text/plain": [
       "array([[-25, -46],\n",
       "       [-22, -43],\n",
       "       [-25, -49],\n",
       "       [-30, -51],\n",
       "       [-19, -43],\n",
       "       [-15, -47],\n",
       "       [-12, -38],\n",
       "       [ -8, -34],\n",
       "       [-16, -49],\n",
       "       [ -3, -60],\n",
       "       [-22, -47],\n",
       "       [ -3, -38],\n",
       "       [-21, -47],\n",
       "       [-23, -51],\n",
       "       [-27, -48],\n",
       "       [-21, -43],\n",
       "       [ -1, -48],\n",
       "       [-10, -67],\n",
       "       [ -8, -63]])"
      ]
     },
     "execution_count": 3,
     "metadata": {},
     "output_type": "execute_result"
    }
   ],
   "source": [
    "dataset"
   ]
  },
  {
   "cell_type": "code",
   "execution_count": 4,
   "metadata": {},
   "outputs": [
    {
     "data": {
      "image/png": "[encoded data removed]",
      "text/plain": [
       "<Figure size 432x288 with 1 Axes>"
      ]
     },
     "metadata": {
      "needs_background": "light"
     },
     "output_type": "display_data"
    }
   ],
   "source": [
    "plt.scatter(dataset[:,1], dataset[:,0]) #posicionamento dos eixos x e y\n",
    "plt.xlim(-75, -30) #range do eixo x\n",
    "plt.ylim(-50, 10) #range do eixo y\n",
    "plt.grid() #função que desenha a grade no nosso gráfico"
   ]
  },
  {
   "cell_type": "code",
   "execution_count": 5,
   "metadata": {},
   "outputs": [],
   "source": [
    "from sklearn.cluster import KMeans #para usar o KMeans"
   ]
  },
  {
   "cell_type": "code",
   "execution_count": 7,
   "metadata": {},
   "outputs": [],
   "source": [
    "# https://medium.com/programadores-ajudando-programadores/k-means-o-que-%C3%A9-como-funciona-aplica%C3%A7%C3%B5es-e-exemplo-em-python-6021df6e2572"
   ]
  },
  {
   "cell_type": "code",
   "execution_count": 8,
   "metadata": {},
   "outputs": [],
   "source": [
    "from sklearn.cluster import KMeans #para usar o KMeans"
   ]
  },
  {
   "cell_type": "code",
   "execution_count": 14,
   "metadata": {},
   "outputs": [
    {
     "data": {
      "image/png": "[encoded data removed]",
      "text/plain": [
       "<Figure size 432x288 with 1 Axes>"
      ]
     },
     "metadata": {
      "needs_background": "light"
     },
     "output_type": "display_data"
    }
   ],
   "source": [
    "kmeans = KMeans(n_clusters = 3, #numero de clusters\n",
    "init = 'k-means++', n_init = 10, #algoritmo que define a posição dos clusters de maneira mais assertiva\n",
    "max_iter = 300) #numero máximo de iterações\n",
    "\n",
    "\n",
    "pred_y = kmeans.fit_predict(dataset)\n",
    "plt.scatter(dataset[:,1], dataset[:,0], c = pred_y) #posicionamento dos eixos x e y\n",
    "plt.xlim(-75, -30) #range do eixo x\n",
    "plt.ylim(-50, 10) #range do eixo y\n",
    "plt.grid() #função que desenha a grade no nosso gráfico\n",
    "\n",
    "plt.scatter(kmeans.cluster_centers_[:,1],kmeans.cluster_centers_[:,0], s = 100 #size\n",
    "            , c = 'red') #posição de cada centroide no gráfico\n",
    "\n",
    "plt.show()"
   ]
  },
  {
   "cell_type": "code",
   "execution_count": 15,
   "metadata": {},
   "outputs": [
    {
     "data": {
      "image/png": "[encoded data removed]",
      "text/plain": [
       "<Figure size 432x288 with 1 Axes>"
      ]
     },
     "metadata": {
      "needs_background": "light"
     },
     "output_type": "display_data"
    }
   ],
   "source": [
    "kmeans = KMeans(n_clusters = 3, #numero de clusters\n",
    "init = 'random', n_init = 10, #algoritmo que define a posição dos clusters de maneira mais assertiva\n",
    "max_iter = 300) #numero máximo de iterações\n",
    "\n",
    "\n",
    "pred_y = kmeans.fit_predict(dataset)\n",
    "plt.scatter(dataset[:,1], dataset[:,0], c = pred_y) #posicionamento dos eixos x e y\n",
    "plt.xlim(-75, -30) #range do eixo x\n",
    "plt.ylim(-50, 10) #range do eixo y\n",
    "plt.grid() #função que desenha a grade no nosso gráfico\n",
    "\n",
    "plt.scatter(kmeans.cluster_centers_[:,1],kmeans.cluster_centers_[:,0], s = 100 #size\n",
    "            , c = 'red') #posição de cada centroide no gráfico\n",
    "\n",
    "plt.show()"
   ]
  },
  {
   "cell_type": "code",
   "execution_count": null,
   "metadata": {},
   "outputs": [],
   "source": []
  }
 ],
 "metadata": {
  "kernelspec": {
   "display_name": "Python 3",
   "language": "python",
   "name": "python3"
  },
  "language_info": {
   "codemirror_mode": {
    "name": "ipython",
    "version": 3
   },
   "file_extension": ".py",
   "mimetype": "text/x-python",
   "name": "python",
   "nbconvert_exporter": "python",
   "pygments_lexer": "ipython3",
   "version": "3.7.1"
  }
 },
 "nbformat": 4,
 "nbformat_minor": 2
}
